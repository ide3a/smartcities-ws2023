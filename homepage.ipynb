{
 "cells": [
  {
   "cell_type": "markdown",
   "metadata": {},
   "source": [
    "# Smart Cities (Winter Semester 22/23)\n",
    "\n",
    "## Workshop: Simulation Mobility Systems\n",
    "\n",
    "Welcome to the Workshop!\n",
    "\n",
    "This notebook is used to collect meaningful data from the simulation you will run during the workshop. The python script is structured in an object oriented way, meaning that dataframes imported from log documents are stored in a 'mosaic' object. If you think you have a good command of the programming language, you can call and manipulate them repeatedly on a new cell of jupyter notebook. \n",
    "The data we provide you with will be largely sufficient for this workshop, so you are not expected to manipulate the data again, but rather to observe how parameter changes affect the results.  However, if during your research you notice a data set with a different structure, you can edit or calculate it on this notebook.\n",
    "\n",
    "For questions, troubleshooting and bugs please reach out to Muzaffer Citir (muzaffer.citir@campus.tu-berlin.de)"
   ]
  },
  {
   "cell_type": "markdown",
   "metadata": {},
   "source": [
    "#### **Step 1:** Initialize the toolbox and libraries used for Mosaic"
   ]
  },
  {
   "cell_type": "code",
   "execution_count": null,
   "metadata": {},
   "outputs": [],
   "source": [
    "import os\n",
    "import pandas as pd\n",
    "from ide3a_toolbox import Mosaic\n",
    "\n",
    "import matplotlib\n",
    "import matplotlib.pyplot as plt\n",
    "import seaborn as sns"
   ]
  },
  {
   "cell_type": "markdown",
   "metadata": {},
   "source": [
    "#### **Step 2:** Create an object named as *mosaic* and define the path to the Eclipse MOSAIC"
   ]
  },
  {
   "cell_type": "code",
   "execution_count": null,
   "metadata": {},
   "outputs": [],
   "source": [
    "mosaic = Mosaic(mosaic_path=os.path.join(os.getcwd(), \"eclipse-mosaic-22.0\"))"
   ]
  },
  {
   "cell_type": "markdown",
   "metadata": {},
   "source": [
    "The method `run_simulation()` will run the selected scenario and display the terminal output in the notebook.\n",
    "\n",
    "- If you set `visualize=True`, the mosaic visualizer will open in a new tab. \n",
    "- Setting `visualize=False` might improve simulation speed.\n",
    "- If you set a `sim_speed`, the simulation will be slowed down to a desired Real Time Factor. For example, use `sim_speed=1` to execute the simulation in real time or `sim_speed=10` to execute 10 times faster than real time. `sim_speed=None` executes simulations as fast as possible."
   ]
  },
  {
   "cell_type": "markdown",
   "metadata": {},
   "source": [
    "#### **Step 3:** Running the simulation"
   ]
  },
  {
   "cell_type": "code",
   "execution_count": null,
   "metadata": {
    "scrolled": true
   },
   "outputs": [],
   "source": [
    "mosaic.run_simulation(visualize=True, sim_speed=1000)"
   ]
  },
  {
   "cell_type": "markdown",
   "metadata": {
    "tags": []
   },
   "source": [
    "#### **Step 4:** Import log data saved by Eclipse Mosaic"
   ]
  },
  {
   "cell_type": "code",
   "execution_count": null,
   "metadata": {},
   "outputs": [],
   "source": [
    "result = mosaic.import_data()\n",
    "#display(result.df_vehicle_updates.head(5))\n",
    "#display(result.df_vehicle_registration.head(5))"
   ]
  },
  {
   "cell_type": "markdown",
   "metadata": {},
   "source": [
    "#### **Step 5:** Viewing, Sorting, and Filtering Data"
   ]
  },
  {
   "cell_type": "markdown",
   "metadata": {},
   "source": [
    "##### **Step 5.1:** Combine two data frames called \"df_vehicle_updates\" and \"df_vehicle_registration\" into \"cumulative_df\""
   ]
  },
  {
   "cell_type": "code",
   "execution_count": null,
   "metadata": {},
   "outputs": [],
   "source": [
    "cumulative_df = pd.merge(result.df_vehicle_updates, result.df_vehicle_registration[['Name','MappingGroup']], how='left')\n",
    "cumulative_df = pd.merge(cumulative_df, result.df_vehicle_registration[['Name','MappingVehicleTypeVehicleClass']], how='left')\n",
    "display(cumulative_df.head(5)) # Change the number of .head(###) how many lines you want to see"
   ]
  },
  {
   "cell_type": "markdown",
   "metadata": {},
   "source": [
    "##### **Step 5.2:** Filter by Unique Vehicle IDs and Equipment Groups"
   ]
  },
  {
   "cell_type": "code",
   "execution_count": null,
   "metadata": {},
   "outputs": [],
   "source": [
    "all_vehicles = result.df_vehicle_registration.Name.unique().tolist()\n",
    "adhoc_vehicles = cumulative_df.loc[cumulative_df['MappingGroup']=='AdHoc'].Name.unique().tolist()\n",
    "cellular_vehicles = cumulative_df.loc[cumulative_df['MappingGroup']=='Cellular'].Name.unique().tolist()\n",
    "unequipped_vehicles = cumulative_df.loc[cumulative_df['MappingGroup']=='Unequipped'].Name.unique().tolist()"
   ]
  },
  {
   "cell_type": "code",
   "execution_count": null,
   "metadata": {},
   "outputs": [],
   "source": [
    "# Uncomment to see Vehicle ID list by Equipment Group\n",
    "#display(all_vehicles)\n",
    "#display(adhoc_vehicles)\n",
    "#display(cellular_vehicles)\n",
    "#display(unequipped_vehicles)"
   ]
  },
  {
   "cell_type": "markdown",
   "metadata": {},
   "source": [
    "##### **Step 5.3:** Create Simulation Statistics"
   ]
  },
  {
   "cell_type": "code",
   "execution_count": null,
   "metadata": {},
   "outputs": [],
   "source": [
    "vehicles_having_routeId_2 = cumulative_df.loc[cumulative_df['RouteId']==2.0].Name.unique().tolist()\n",
    "cellular_vehicles_having_routeId_2 = cumulative_df.loc[(cumulative_df['RouteId']==2.0) & (cumulative_df['MappingGroup']=='Cellular')].Name.unique().tolist()\n",
    "adhoc_vehicles_having_routeId_2 = cumulative_df.loc[(cumulative_df['RouteId']==2.0) & (cumulative_df['MappingGroup']=='AdHoc')].Name.unique().tolist()\n",
    "\n",
    "# Calculate how many vehicles alread got messages from the V2X network\n",
    "list_of_vehicles_got_message = result.df_navigation_log['Vehicles_List'].values\n",
    "\n",
    "# Calculate how many vehicles already set the 'targetSpeed=6.94'\n",
    "list_of_vehicles_past_through_hazardous_zone = result.df_traffic_log[14].loc[result.df_traffic_log[15].str.contains('targetSpeed=6.94')==True]\n",
    "\n",
    "# Print Info\n",
    "print(f\"Total {len(all_vehicles)} vehicles in the simulation. (AdHoc: {len(adhoc_vehicles)}, Cellular: {len(cellular_vehicles)}, Unequipped: {len(unequipped_vehicles)})\")\n",
    "print(f\"\\nStatistics from Navigation.log file\")\n",
    "print(f\"- Total {len(list_of_vehicles_got_message.tolist())} vehicles got messages from the V2X network due to changing route.\")\n",
    "print(f\"- {len(adhoc_vehicles_having_routeId_2)} adhoc and {len(cellular_vehicles_having_routeId_2)} cellular vehicle(s) updated the route!\")\n",
    "print(f\"\\nStatistics from  Traffic.log file\")\n",
    "print(f\"- {len(list_of_vehicles_past_through_hazardous_zone)} vehicle(s) passed through the hazardous zone.\")\n"
   ]
  },
  {
   "cell_type": "markdown",
   "metadata": {},
   "source": [
    "##### **Step 5.4:** Network Statistics"
   ]
  },
  {
   "cell_type": "code",
   "execution_count": null,
   "metadata": {},
   "outputs": [],
   "source": [
    "adhoc_transmitter = result.df_v2x_message_transmission.loc[result.df_v2x_message_transmission['MessageRoutingDestinationType'] == 'AD_HOC_GEOCAST']\n",
    "cellular_transmitter = result.df_v2x_message_transmission.loc[result.df_v2x_message_transmission['MessageRoutingDestinationType'] == 'CELL_GEOCAST']\n",
    "all_receiver = pd.merge(result.df_v2x_message_reception, result.df_vehicle_registration[['Name','MappingGroup']], how='left')\n",
    "adhoc_receiver = all_receiver.loc[all_receiver['MappingGroup']=='AdHoc']\n",
    "cellular_receiver = all_receiver.loc[all_receiver['MappingGroup']=='Cellular']\n",
    "\n",
    "print(\"\\nAdhoc\")\n",
    "print(f\"- {adhoc_transmitter.groupby(['Name']).size().sum()} messages transmitted by {adhoc_transmitter.groupby(['Name']).size().count()} Adhoc vehicle(s)\")\n",
    "print(f\"- {adhoc_receiver.groupby(['Name']).size().sum()} messages received by {adhoc_receiver.groupby(['Name']).size().count()} Adhoc vehicle(s)\")\n",
    "\n",
    "print(\"\\nCellular\")\n",
    "if cellular_transmitter.loc[cellular_transmitter.Name.str.contains('server')].Name.nunique() > 0:\n",
    "    print(f\"- {cellular_transmitter.groupby(['Name']).size().sum()} messages transmitted by {cellular_transmitter.Name.nunique() - cellular_transmitter.loc[cellular_transmitter.Name.str.contains('server')].Name.nunique()} Cellular vehicle(s)\")\n",
    "    print(f\"- {cellular_transmitter.loc[cellular_transmitter.Name.str.contains('server')].Name.nunique()} server(s) and {cellular_receiver.groupby(['Name']).size().sum()} messages received by {cellular_receiver.groupby(['Name']).size().count()} Cellular vehicle(s)\")\n",
    "else:\n",
    "    print(f\"- {cellular_transmitter.groupby(['Name']).size().sum()} messages transmitted by {cellular_transmitter.Name.nunique()} Cellular vehicle(s)\")\n",
    "    print(f\"- {cellular_receiver.groupby(['Name']).size().sum()} messages received by {cellular_receiver.groupby(['Name']).size().count()} Cellular vehicle(s)\")\n"
   ]
  },
  {
   "cell_type": "markdown",
   "metadata": {},
   "source": [
    "##### **Step 5.5:** Auxiliary Statistics"
   ]
  },
  {
   "cell_type": "code",
   "execution_count": null,
   "metadata": {},
   "outputs": [],
   "source": [
    "# Statistics of Vehicles Classes and CO2 Emissions\n",
    "print(f\"\\nVehicle Class(es): {cumulative_df['MappingVehicleTypeVehicleClass'].unique()}\")\n",
    "print(\"Total Emmission: {:.2f} g CO2\".format(cumulative_df['VehicleEmissionsCurrentEmissionsCo2'].sum()/1000))\n",
    "print(\"Average {:.2f} g CO2 released per vehicle\".format(cumulative_df[['Name','VehicleEmissionsAllEmissionsCo2']].groupby(['Name']).max().mean()[0]/1000))"
   ]
  },
  {
   "cell_type": "markdown",
   "metadata": {},
   "source": [
    "# Plotting Example"
   ]
  },
  {
   "cell_type": "code",
   "execution_count": null,
   "metadata": {},
   "outputs": [],
   "source": [
    "adhoc_receiver.head(100)"
   ]
  },
  {
   "cell_type": "code",
   "execution_count": null,
   "metadata": {},
   "outputs": [],
   "source": [
    "sns.histplot(data=adhoc_receiver, y=\"Name\")"
   ]
  },
  {
   "cell_type": "code",
   "execution_count": null,
   "metadata": {},
   "outputs": [],
   "source": [
    "cellular_receiver.head(20)"
   ]
  },
  {
   "cell_type": "code",
   "execution_count": null,
   "metadata": {},
   "outputs": [],
   "source": [
    "sns.histplot(data=cellular_receiver, y=\"Name\")"
   ]
  }
 ],
 "metadata": {
  "kernelspec": {
   "display_name": "Python 3 (ipykernel)",
   "language": "python",
   "name": "python3"
  },
  "language_info": {
   "codemirror_mode": {
    "name": "ipython",
    "version": 3
   },
   "file_extension": ".py",
   "mimetype": "text/x-python",
   "name": "python",
   "nbconvert_exporter": "python",
   "pygments_lexer": "ipython3",
   "version": "3.10.4"
  }
 },
 "nbformat": 4,
 "nbformat_minor": 4
}

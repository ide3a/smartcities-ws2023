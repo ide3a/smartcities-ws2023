{
 "cells": [
  {
   "cell_type": "markdown",
   "metadata": {},
   "source": [
    "Your installation is completed!"
   ]
  }
 ],
 "metadata": {
  "kernelspec": {
   "display_name": "Python 3.10.4 ('venv': venv)",
   "language": "python",
   "name": "python3"
  },
  "language_info": {
   "name": "python",
   "version": "3.10.4"
  },
  "orig_nbformat": 4,
  "vscode": {
   "interpreter": {
    "hash": "5b5c7cafe06c6494f815cda56ed778375783d008f708ee7c6e0163478b243cc4"
   }
  }
 },
 "nbformat": 4,
 "nbformat_minor": 2
}

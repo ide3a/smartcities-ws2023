{
 "cells": [
  {
   "cell_type": "code",
   "execution_count": 1,
   "id": "486941ac-2611-4af9-8318-49766fafa95e",
   "metadata": {},
   "outputs": [
    {
     "name": "stdout",
     "output_type": "stream",
     "text": [
      "\n",
      "0\n"
     ]
    }
   ],
   "source": [
    "import sys\n",
    "import os\n",
    "\n",
    "#print(sys.path)\n",
    "\n",
    "print(os.system('echo $SUMO_HOME'))\n",
    "#print(os.system('whoami'))"
   ]
  },
  {
   "cell_type": "code",
   "execution_count": null,
   "id": "2d0154d8-633a-42ad-9047-624f96331eee",
   "metadata": {},
   "outputs": [],
   "source": [
    "os.system('echo $SUMO_HOME')"
   ]
  },
  {
   "cell_type": "code",
   "execution_count": null,
   "id": "cea9dcb7-14d9-477b-bcc5-820cd628f3ca",
   "metadata": {},
   "outputs": [],
   "source": [
    "import os,sys\n",
    "sys.path.insert(1, os.path.join(os.getcwd()  , '..'))"
   ]
  },
  {
   "cell_type": "code",
   "execution_count": null,
   "id": "47fe2b6b-bc0e-4c42-9794-94c18719c2ef",
   "metadata": {},
   "outputs": [],
   "source": [
    "print(os.getcwd())"
   ]
  },
  {
   "cell_type": "code",
   "execution_count": null,
   "id": "cbd94b6d-e752-4d49-ae33-a86223e6d4b1",
   "metadata": {},
   "outputs": [],
   "source": [
    "import sys\n",
    "sys.path"
   ]
  }
 ],
 "metadata": {
  "kernelspec": {
   "display_name": "Python 3 (ipykernel)",
   "language": "python",
   "name": "python3"
  },
  "language_info": {
   "codemirror_mode": {
    "name": "ipython",
    "version": 3
   },
   "file_extension": ".py",
   "mimetype": "text/x-python",
   "name": "python",
   "nbconvert_exporter": "python",
   "pygments_lexer": "ipython3",
   "version": "3.8.10"
  }
 },
 "nbformat": 4,
 "nbformat_minor": 5
}
